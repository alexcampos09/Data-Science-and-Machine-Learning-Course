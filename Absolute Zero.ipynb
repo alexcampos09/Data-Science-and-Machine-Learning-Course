{
 "cells": [
  {
   "cell_type": "markdown",
   "metadata": {},
   "source": [
    "## A Friendly Introduction to Data Science and Machine Learning\n",
    "#### In this notebook we will estimate the value of Absolute Zero (the coldest temperature in the universe)\n",
    "\n",
    "#### Our data consists of readings of Temperature vs Pressure. To estimate the Absolute Zero we just need to find which temperature would have zero pressure. And since there's no such things as negative pressure it's physically impossible for the temperature to go bellow that point.\n",
    "\n",
    "#### You will see that even with a very small sample our predition won't be too far from the actual value\n",
    "\n",
    "#### Let's start!"
   ]
  },
  {
   "cell_type": "code",
   "execution_count": 1,
   "metadata": {},
   "outputs": [],
   "source": [
    "# Importing Libraries\n",
    "import pylab\n",
    "import numpy as np\n",
    "import pandas as pd\n",
    "import matplotlib.pyplot as plt\n",
    "import seaborn as sns\n",
    "%matplotlib inline\n",
    "\n",
    "sns.set_style('whitegrid')"
   ]
  },
  {
   "cell_type": "markdown",
   "metadata": {},
   "source": [
    "We will get our data directly from the website carolina.com\n",
    "https://www.carolina.com/teacher-resources/Interactive/gay-lussacs-law-temperature-pressure-relationship-in-gases-determination-absolute-zero/tr10730.tr"
   ]
  },
  {
   "cell_type": "code",
   "execution_count": 2,
   "metadata": {},
   "outputs": [
    {
     "data": {
      "text/html": [
       "<div>\n",
       "<style scoped>\n",
       "    .dataframe tbody tr th:only-of-type {\n",
       "        vertical-align: middle;\n",
       "    }\n",
       "\n",
       "    .dataframe tbody tr th {\n",
       "        vertical-align: top;\n",
       "    }\n",
       "\n",
       "    .dataframe thead th {\n",
       "        text-align: right;\n",
       "    }\n",
       "</style>\n",
       "<table border=\"1\" class=\"dataframe\">\n",
       "  <thead>\n",
       "    <tr style=\"text-align: right;\">\n",
       "      <th></th>\n",
       "      <th>0</th>\n",
       "      <th>1</th>\n",
       "      <th>2</th>\n",
       "      <th>3</th>\n",
       "      <th>4</th>\n",
       "    </tr>\n",
       "  </thead>\n",
       "  <tbody>\n",
       "    <tr>\n",
       "      <th>0</th>\n",
       "      <td>Reading No.</td>\n",
       "      <td>Type of Bath Used</td>\n",
       "      <td>Temperature  (°C)</td>\n",
       "      <td>Temperature  (°K)</td>\n",
       "      <td>Pressure (mm Hg)</td>\n",
       "    </tr>\n",
       "    <tr>\n",
       "      <th>1</th>\n",
       "      <td>1</td>\n",
       "      <td>Boiling water</td>\n",
       "      <td>100.0</td>\n",
       "      <td>373.1</td>\n",
       "      <td>945</td>\n",
       "    </tr>\n",
       "    <tr>\n",
       "      <th>2</th>\n",
       "      <td>2</td>\n",
       "      <td>Boiling water + room temp. water</td>\n",
       "      <td>53.0</td>\n",
       "      <td>326.1</td>\n",
       "      <td>840</td>\n",
       "    </tr>\n",
       "    <tr>\n",
       "      <th>3</th>\n",
       "      <td>3</td>\n",
       "      <td>Room temp. water</td>\n",
       "      <td>21.0</td>\n",
       "      <td>294.1</td>\n",
       "      <td>765</td>\n",
       "    </tr>\n",
       "    <tr>\n",
       "      <th>4</th>\n",
       "      <td>4</td>\n",
       "      <td>Ice water</td>\n",
       "      <td>0.0</td>\n",
       "      <td>273.1</td>\n",
       "      <td>720</td>\n",
       "    </tr>\n",
       "    <tr>\n",
       "      <th>5</th>\n",
       "      <td>5</td>\n",
       "      <td>Dry ice/ethanol (or acetone)</td>\n",
       "      <td>–78.5</td>\n",
       "      <td>NaN</td>\n",
       "      <td>NaN</td>\n",
       "    </tr>\n",
       "    <tr>\n",
       "      <th>6</th>\n",
       "      <td>6</td>\n",
       "      <td>Liquid nitrogen</td>\n",
       "      <td>–195.7</td>\n",
       "      <td>77.4</td>\n",
       "      <td>225</td>\n",
       "    </tr>\n",
       "  </tbody>\n",
       "</table>\n",
       "</div>"
      ],
      "text/plain": [
       "             0                                 1                  2  \\\n",
       "0  Reading No.                 Type of Bath Used  Temperature  (°C)   \n",
       "1            1                     Boiling water              100.0   \n",
       "2            2  Boiling water + room temp. water               53.0   \n",
       "3            3                  Room temp. water               21.0   \n",
       "4            4                         Ice water                0.0   \n",
       "5            5      Dry ice/ethanol (or acetone)              –78.5   \n",
       "6            6                   Liquid nitrogen             –195.7   \n",
       "\n",
       "                   3                 4  \n",
       "0  Temperature  (°K)  Pressure (mm Hg)  \n",
       "1              373.1               945  \n",
       "2              326.1               840  \n",
       "3              294.1               765  \n",
       "4              273.1               720  \n",
       "5                NaN               NaN  \n",
       "6               77.4               225  "
      ]
     },
     "execution_count": 2,
     "metadata": {},
     "output_type": "execute_result"
    }
   ],
   "source": [
    "study_tables = pd.read_html('https://www.carolina.com/teacher-resources/Interactive/gay-lussacs-law-temperature-pressure-relationship-in-gases-determination-absolute-zero/tr10730.tr')\n",
    "# df stands for data frame\n",
    "df = study_tables[2]\n",
    "df"
   ]
  },
  {
   "cell_type": "markdown",
   "metadata": {},
   "source": [
    "There's more information in this data frame than we actually need. Let's get rid of reading no., type of bath used and temperature in kelvin."
   ]
  },
  {
   "cell_type": "code",
   "execution_count": 3,
   "metadata": {},
   "outputs": [
    {
     "data": {
      "text/html": [
       "<div>\n",
       "<style scoped>\n",
       "    .dataframe tbody tr th:only-of-type {\n",
       "        vertical-align: middle;\n",
       "    }\n",
       "\n",
       "    .dataframe tbody tr th {\n",
       "        vertical-align: top;\n",
       "    }\n",
       "\n",
       "    .dataframe thead th {\n",
       "        text-align: right;\n",
       "    }\n",
       "</style>\n",
       "<table border=\"1\" class=\"dataframe\">\n",
       "  <thead>\n",
       "    <tr style=\"text-align: right;\">\n",
       "      <th></th>\n",
       "      <th>Temp</th>\n",
       "      <th>Pressure</th>\n",
       "    </tr>\n",
       "  </thead>\n",
       "  <tbody>\n",
       "    <tr>\n",
       "      <th>1</th>\n",
       "      <td>100.0</td>\n",
       "      <td>945</td>\n",
       "    </tr>\n",
       "    <tr>\n",
       "      <th>2</th>\n",
       "      <td>53.0</td>\n",
       "      <td>840</td>\n",
       "    </tr>\n",
       "    <tr>\n",
       "      <th>3</th>\n",
       "      <td>21.0</td>\n",
       "      <td>765</td>\n",
       "    </tr>\n",
       "    <tr>\n",
       "      <th>4</th>\n",
       "      <td>0.0</td>\n",
       "      <td>720</td>\n",
       "    </tr>\n",
       "    <tr>\n",
       "      <th>5</th>\n",
       "      <td>–78.5</td>\n",
       "      <td>NaN</td>\n",
       "    </tr>\n",
       "    <tr>\n",
       "      <th>6</th>\n",
       "      <td>–195.7</td>\n",
       "      <td>225</td>\n",
       "    </tr>\n",
       "  </tbody>\n",
       "</table>\n",
       "</div>"
      ],
      "text/plain": [
       "     Temp Pressure\n",
       "1   100.0      945\n",
       "2    53.0      840\n",
       "3    21.0      765\n",
       "4     0.0      720\n",
       "5   –78.5      NaN\n",
       "6  –195.7      225"
      ]
     },
     "execution_count": 3,
     "metadata": {},
     "output_type": "execute_result"
    }
   ],
   "source": [
    "df.columns = df.iloc[0]\n",
    "df.drop(0, inplace=True)\n",
    "df = df[['Temperature  (°C)', 'Pressure (mm Hg)']]\n",
    "df.columns = ['Temp', 'Pressure']\n",
    "df"
   ]
  },
  {
   "cell_type": "markdown",
   "metadata": {},
   "source": [
    "In order to plot the values in a graph, they have to be either integer or floats, but in our table they're strings. Let's change that."
   ]
  },
  {
   "cell_type": "code",
   "execution_count": 4,
   "metadata": {},
   "outputs": [
    {
     "data": {
      "text/plain": [
       "Temp        object\n",
       "Pressure    object\n",
       "dtype: object"
      ]
     },
     "execution_count": 4,
     "metadata": {},
     "output_type": "execute_result"
    }
   ],
   "source": [
    "df.dtypes"
   ]
  },
  {
   "cell_type": "code",
   "execution_count": 5,
   "metadata": {},
   "outputs": [
    {
     "data": {
      "text/plain": [
       "Temp        float64\n",
       "Pressure    float64\n",
       "dtype: object"
      ]
     },
     "execution_count": 5,
     "metadata": {},
     "output_type": "execute_result"
    }
   ],
   "source": [
    "df = df.replace('–','-',   regex=True).apply(pd.to_numeric)\n",
    "df.dtypes"
   ]
  },
  {
   "cell_type": "code",
   "execution_count": 6,
   "metadata": {},
   "outputs": [
    {
     "data": {
      "text/plain": [
       "(0, 1100)"
      ]
     },
     "execution_count": 6,
     "metadata": {},
     "output_type": "execute_result"
    },
    {
     "data": {
      "image/png": "[encoded data removed]",
      "text/plain": [
       "<Figure size 864x432 with 1 Axes>"
      ]
     },
     "metadata": {
      "needs_background": "light"
     },
     "output_type": "display_data"
    }
   ],
   "source": [
    "fig = plt.figure(figsize=(12,6))\n",
    "\n",
    "sns.regplot('Temp', 'Pressure', df, color='b', fit_reg=False)\n",
    "\n",
    "plt.xlabel('Temperature (ºC)', fontsize=16)\n",
    "plt.ylabel('Pressure (mm Hg)', fontsize=16)\n",
    "plt.title('Pressure vs Temperature', fontsize=22)\n",
    "\n",
    "pylab.xlim([-400, 200])\n",
    "pylab.ylim([0, 1100])"
   ]
  },
  {
   "cell_type": "markdown",
   "metadata": {},
   "source": [
    "Notice that we have 6 rows of data, but one of our rows has a null value. Looking at the graph above we can roughly estimate the missing value and plot it again. What value would you chose?\n",
    "\n",
    "Before we continue, see if you can guess the value of Absolute Zero. Whatever you're doing in your head is going to be similar to how the Machine Learning model \"thinks\"."
   ]
  },
  {
   "cell_type": "code",
   "execution_count": 7,
   "metadata": {},
   "outputs": [
    {
     "data": {
      "text/html": [
       "<div>\n",
       "<style scoped>\n",
       "    .dataframe tbody tr th:only-of-type {\n",
       "        vertical-align: middle;\n",
       "    }\n",
       "\n",
       "    .dataframe tbody tr th {\n",
       "        vertical-align: top;\n",
       "    }\n",
       "\n",
       "    .dataframe thead th {\n",
       "        text-align: right;\n",
       "    }\n",
       "</style>\n",
       "<table border=\"1\" class=\"dataframe\">\n",
       "  <thead>\n",
       "    <tr style=\"text-align: right;\">\n",
       "      <th></th>\n",
       "      <th>Temp</th>\n",
       "      <th>Pressure</th>\n",
       "    </tr>\n",
       "  </thead>\n",
       "  <tbody>\n",
       "    <tr>\n",
       "      <th>1</th>\n",
       "      <td>100.0</td>\n",
       "      <td>945.0</td>\n",
       "    </tr>\n",
       "    <tr>\n",
       "      <th>2</th>\n",
       "      <td>53.0</td>\n",
       "      <td>840.0</td>\n",
       "    </tr>\n",
       "    <tr>\n",
       "      <th>3</th>\n",
       "      <td>21.0</td>\n",
       "      <td>765.0</td>\n",
       "    </tr>\n",
       "    <tr>\n",
       "      <th>4</th>\n",
       "      <td>0.0</td>\n",
       "      <td>720.0</td>\n",
       "    </tr>\n",
       "    <tr>\n",
       "      <th>5</th>\n",
       "      <td>-78.5</td>\n",
       "      <td>500.0</td>\n",
       "    </tr>\n",
       "    <tr>\n",
       "      <th>6</th>\n",
       "      <td>-195.7</td>\n",
       "      <td>225.0</td>\n",
       "    </tr>\n",
       "  </tbody>\n",
       "</table>\n",
       "</div>"
      ],
      "text/plain": [
       "    Temp  Pressure\n",
       "1  100.0     945.0\n",
       "2   53.0     840.0\n",
       "3   21.0     765.0\n",
       "4    0.0     720.0\n",
       "5  -78.5     500.0\n",
       "6 -195.7     225.0"
      ]
     },
     "execution_count": 7,
     "metadata": {},
     "output_type": "execute_result"
    }
   ],
   "source": [
    "df['Pressure'][5] = 500\n",
    "df"
   ]
  },
  {
   "cell_type": "code",
   "execution_count": 8,
   "metadata": {},
   "outputs": [
    {
     "data": {
      "text/plain": [
       "(0, 1100)"
      ]
     },
     "execution_count": 8,
     "metadata": {},
     "output_type": "execute_result"
    },
    {
     "data": {
      "image/png": "[encoded data removed]",
      "text/plain": [
       "<Figure size 864x432 with 1 Axes>"
      ]
     },
     "metadata": {
      "needs_background": "light"
     },
     "output_type": "display_data"
    }
   ],
   "source": [
    "fig = plt.figure(figsize=(12,6))\n",
    "\n",
    "sns.regplot('Temp', 'Pressure', df, color='g')\n",
    "\n",
    "plt.xlabel('Temperature (ºC)', fontsize=16)\n",
    "plt.ylabel('Pressure (mm Hg)', fontsize=16)\n",
    "plt.title('Pressure vs Temperature', fontsize=22)\n",
    "\n",
    "pylab.xlim([-400, 200])\n",
    "pylab.ylim([0, 1100])"
   ]
  },
  {
   "cell_type": "markdown",
   "metadata": {},
   "source": [
    "Notice how our estimative for the missing value was spot on! I chose 500 becaue I imagined a line linking the points of the first graph. Now we can see that same line from the computer's perspective.\n",
    "\n",
    "The fact that our data lines up as a straight line hints for a linear relationship. Let's follow the hint and implement a linear regression model.\n",
    "\n",
    "Now to create a linear regression machine learning model we will import LinearRegression from the Scikit-Learn library and define our X (Pressure) and y (Temperature) parameters for the function y = f(X)\n",
    "\n",
    "We are calling X = Pressure and not the other way around, because we already know the value of Pressure (Zero) for Absolute Zero."
   ]
  },
  {
   "cell_type": "code",
   "execution_count": 9,
   "metadata": {},
   "outputs": [],
   "source": [
    "from sklearn.linear_model import LinearRegression\n",
    "\n",
    "lm = LinearRegression()\n",
    "X = df['Pressure'][:, None]\n",
    "y = df['Temp']"
   ]
  },
  {
   "cell_type": "markdown",
   "metadata": {},
   "source": [
    "Now we will split our data in training data and testing data.\n",
    "More information on why can be found here:\n",
    "https://www.quora.com/In-machine-learning-what-s-the-purpose-of-splitting-data-up-into-test-sets-and-training-sets"
   ]
  },
  {
   "cell_type": "code",
   "execution_count": 10,
   "metadata": {},
   "outputs": [],
   "source": [
    "from sklearn.model_selection import train_test_split\n",
    "\n",
    "X_train, X_test, y_train, y_test = train_test_split(X, y, test_size=0.5, random_state=101)"
   ]
  },
  {
   "cell_type": "markdown",
   "metadata": {},
   "source": [
    "Finally we can fit the model to our data and predict it's results"
   ]
  },
  {
   "cell_type": "code",
   "execution_count": 11,
   "metadata": {},
   "outputs": [],
   "source": [
    "lm.fit(X_train, y_train)\n",
    "predictions = lm.predict(X_test)"
   ]
  },
  {
   "cell_type": "code",
   "execution_count": 12,
   "metadata": {},
   "outputs": [
    {
     "name": "stdout",
     "output_type": "stream",
     "text": [
      "True vs Predicted: 100.0 | 99.49\n",
      "True vs Predicted: -195.7 | -217.41\n",
      "True vs Predicted: -78.5 | -96.37\n"
     ]
    },
    {
     "name": "stderr",
     "output_type": "stream",
     "text": [
      "/Users/Alex/anaconda3/lib/python3.6/site-packages/ipykernel_launcher.py:1: FutureWarning: Method .as_matrix will be removed in a future version. Use .values instead.\n",
      "  \"\"\"Entry point for launching an IPython kernel.\n"
     ]
    }
   ],
   "source": [
    "y_test = y_test.as_matrix()\n",
    "\n",
    "for i in range(len(predictions)):\n",
    "    print(f'True vs Predicted: {y_test[i]} | {round(predictions[i],2)}')"
   ]
  },
  {
   "cell_type": "markdown",
   "metadata": {},
   "source": [
    "We can see that this is not a very good model. But let's predict the temperature for the case where pressure is equal to zero anyway."
   ]
  },
  {
   "cell_type": "code",
   "execution_count": 13,
   "metadata": {},
   "outputs": [
    {
     "data": {
      "text/plain": [
       "array([-316.43877551])"
      ]
     },
     "execution_count": 13,
     "metadata": {},
     "output_type": "execute_result"
    }
   ],
   "source": [
    "lm.predict(0)"
   ]
  },
  {
   "cell_type": "markdown",
   "metadata": {},
   "source": [
    "-316ºC for Absolute Zero, that's more than 30ºC off from the real value of -273ºC.\n",
    "That's okay, because we used only 3 values to train the model. Let's try again with the entire set and see if we can do better."
   ]
  },
  {
   "cell_type": "code",
   "execution_count": 14,
   "metadata": {},
   "outputs": [
    {
     "data": {
      "text/plain": [
       "array([-285.69508075])"
      ]
     },
     "execution_count": 14,
     "metadata": {},
     "output_type": "execute_result"
    }
   ],
   "source": [
    "lm2 = LinearRegression()\n",
    "lm2.fit(X, y)\n",
    "lm2.predict(0)"
   ]
  },
  {
   "cell_type": "markdown",
   "metadata": {},
   "source": [
    "### Here it is! According to our model Absolute Zero is -285ºC, which is pretty close to the actual value of -273ºC.\n",
    "\n",
    "### Keep in mind that we only used a very small dataset. It's not uncommon to have a much larger data to work with, like hundreds of thousands of rows (in cases like this doing a train test split would make more sense).\n",
    "\n",
    "### I hope you enjoyed!"
   ]
  },
  {
   "cell_type": "code",
   "execution_count": null,
   "metadata": {},
   "outputs": [],
   "source": []
  }
 ],
 "metadata": {
  "kernelspec": {
   "display_name": "Python 3",
   "language": "python",
   "name": "python3"
  },
  "language_info": {
   "codemirror_mode": {
    "name": "ipython",
    "version": 3
   },
   "file_extension": ".py",
   "mimetype": "text/x-python",
   "name": "python",
   "nbconvert_exporter": "python",
   "pygments_lexer": "ipython3",
   "version": "3.6.5"
  }
 },
 "nbformat": 4,
 "nbformat_minor": 2
}
